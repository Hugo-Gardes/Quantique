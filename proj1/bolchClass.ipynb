{
 "cells": [
  {
   "cell_type": "code",
   "execution_count": 1,
   "metadata": {},
   "outputs": [
    {
     "name": "stdout",
     "output_type": "stream",
     "text": [
      "Defaulting to user installation because normal site-packages is not writeable\n",
      "Requirement already satisfied: qiskit_aer in c:\\users\\hugog\\appdata\\local\\packages\\pythonsoftwarefoundation.python.3.12_qbz5n2kfra8p0\\localcache\\local-packages\\python312\\site-packages (0.15.1)\n",
      "Requirement already satisfied: qiskit>=1.1.0 in c:\\users\\hugog\\appdata\\local\\packages\\pythonsoftwarefoundation.python.3.12_qbz5n2kfra8p0\\localcache\\local-packages\\python312\\site-packages (from qiskit_aer) (1.2.2)\n",
      "Requirement already satisfied: numpy>=1.16.3 in c:\\users\\hugog\\appdata\\local\\packages\\pythonsoftwarefoundation.python.3.12_qbz5n2kfra8p0\\localcache\\local-packages\\python312\\site-packages (from qiskit_aer) (2.0.2)\n",
      "Requirement already satisfied: scipy>=1.0 in c:\\users\\hugog\\appdata\\local\\packages\\pythonsoftwarefoundation.python.3.12_qbz5n2kfra8p0\\localcache\\local-packages\\python312\\site-packages (from qiskit_aer) (1.14.1)\n",
      "Requirement already satisfied: psutil>=5 in c:\\users\\hugog\\appdata\\local\\packages\\pythonsoftwarefoundation.python.3.12_qbz5n2kfra8p0\\localcache\\local-packages\\python312\\site-packages (from qiskit_aer) (6.0.0)\n",
      "Requirement already satisfied: rustworkx>=0.15.0 in c:\\users\\hugog\\appdata\\local\\packages\\pythonsoftwarefoundation.python.3.12_qbz5n2kfra8p0\\localcache\\local-packages\\python312\\site-packages (from qiskit>=1.1.0->qiskit_aer) (0.15.1)\n",
      "Requirement already satisfied: sympy>=1.3 in c:\\users\\hugog\\appdata\\local\\packages\\pythonsoftwarefoundation.python.3.12_qbz5n2kfra8p0\\localcache\\local-packages\\python312\\site-packages (from qiskit>=1.1.0->qiskit_aer) (1.13.3)\n",
      "Requirement already satisfied: dill>=0.3 in c:\\users\\hugog\\appdata\\local\\packages\\pythonsoftwarefoundation.python.3.12_qbz5n2kfra8p0\\localcache\\local-packages\\python312\\site-packages (from qiskit>=1.1.0->qiskit_aer) (0.3.7)\n",
      "Requirement already satisfied: python-dateutil>=2.8.0 in c:\\users\\hugog\\appdata\\local\\packages\\pythonsoftwarefoundation.python.3.12_qbz5n2kfra8p0\\localcache\\local-packages\\python312\\site-packages (from qiskit>=1.1.0->qiskit_aer) (2.9.0.post0)\n",
      "Requirement already satisfied: stevedore>=3.0.0 in c:\\users\\hugog\\appdata\\local\\packages\\pythonsoftwarefoundation.python.3.12_qbz5n2kfra8p0\\localcache\\local-packages\\python312\\site-packages (from qiskit>=1.1.0->qiskit_aer) (5.3.0)\n",
      "Requirement already satisfied: typing-extensions in c:\\users\\hugog\\appdata\\local\\packages\\pythonsoftwarefoundation.python.3.12_qbz5n2kfra8p0\\localcache\\local-packages\\python312\\site-packages (from qiskit>=1.1.0->qiskit_aer) (4.12.2)\n",
      "Requirement already satisfied: symengine>=0.11 in c:\\users\\hugog\\appdata\\local\\packages\\pythonsoftwarefoundation.python.3.12_qbz5n2kfra8p0\\localcache\\local-packages\\python312\\site-packages (from qiskit>=1.1.0->qiskit_aer) (0.11.0)\n",
      "Requirement already satisfied: six>=1.5 in c:\\users\\hugog\\appdata\\local\\packages\\pythonsoftwarefoundation.python.3.12_qbz5n2kfra8p0\\localcache\\local-packages\\python312\\site-packages (from python-dateutil>=2.8.0->qiskit>=1.1.0->qiskit_aer) (1.16.0)\n",
      "Requirement already satisfied: pbr>=2.0.0 in c:\\users\\hugog\\appdata\\local\\packages\\pythonsoftwarefoundation.python.3.12_qbz5n2kfra8p0\\localcache\\local-packages\\python312\\site-packages (from stevedore>=3.0.0->qiskit>=1.1.0->qiskit_aer) (6.1.0)\n",
      "Requirement already satisfied: mpmath<1.4,>=1.1.0 in c:\\users\\hugog\\appdata\\local\\packages\\pythonsoftwarefoundation.python.3.12_qbz5n2kfra8p0\\localcache\\local-packages\\python312\\site-packages (from sympy>=1.3->qiskit>=1.1.0->qiskit_aer) (1.3.0)\n",
      "Note: you may need to restart the kernel to use updated packages.\n",
      "Defaulting to user installation because normal site-packages is not writeable\n",
      "Requirement already satisfied: qiskit in c:\\users\\hugog\\appdata\\local\\packages\\pythonsoftwarefoundation.python.3.12_qbz5n2kfra8p0\\localcache\\local-packages\\python312\\site-packages (1.2.2)\n",
      "Requirement already satisfied: rustworkx>=0.15.0 in c:\\users\\hugog\\appdata\\local\\packages\\pythonsoftwarefoundation.python.3.12_qbz5n2kfra8p0\\localcache\\local-packages\\python312\\site-packages (from qiskit) (0.15.1)\n",
      "Requirement already satisfied: numpy<3,>=1.17 in c:\\users\\hugog\\appdata\\local\\packages\\pythonsoftwarefoundation.python.3.12_qbz5n2kfra8p0\\localcache\\local-packages\\python312\\site-packages (from qiskit) (2.0.2)\n",
      "Requirement already satisfied: scipy>=1.5 in c:\\users\\hugog\\appdata\\local\\packages\\pythonsoftwarefoundation.python.3.12_qbz5n2kfra8p0\\localcache\\local-packages\\python312\\site-packages (from qiskit) (1.14.1)\n",
      "Requirement already satisfied: sympy>=1.3 in c:\\users\\hugog\\appdata\\local\\packages\\pythonsoftwarefoundation.python.3.12_qbz5n2kfra8p0\\localcache\\local-packages\\python312\\site-packages (from qiskit) (1.13.3)\n",
      "Requirement already satisfied: dill>=0.3 in c:\\users\\hugog\\appdata\\local\\packages\\pythonsoftwarefoundation.python.3.12_qbz5n2kfra8p0\\localcache\\local-packages\\python312\\site-packages (from qiskit) (0.3.7)\n",
      "Requirement already satisfied: python-dateutil>=2.8.0 in c:\\users\\hugog\\appdata\\local\\packages\\pythonsoftwarefoundation.python.3.12_qbz5n2kfra8p0\\localcache\\local-packages\\python312\\site-packages (from qiskit) (2.9.0.post0)\n",
      "Requirement already satisfied: stevedore>=3.0.0 in c:\\users\\hugog\\appdata\\local\\packages\\pythonsoftwarefoundation.python.3.12_qbz5n2kfra8p0\\localcache\\local-packages\\python312\\site-packages (from qiskit) (5.3.0)\n",
      "Requirement already satisfied: typing-extensions in c:\\users\\hugog\\appdata\\local\\packages\\pythonsoftwarefoundation.python.3.12_qbz5n2kfra8p0\\localcache\\local-packages\\python312\\site-packages (from qiskit) (4.12.2)\n",
      "Requirement already satisfied: symengine>=0.11 in c:\\users\\hugog\\appdata\\local\\packages\\pythonsoftwarefoundation.python.3.12_qbz5n2kfra8p0\\localcache\\local-packages\\python312\\site-packages (from qiskit) (0.11.0)\n",
      "Requirement already satisfied: six>=1.5 in c:\\users\\hugog\\appdata\\local\\packages\\pythonsoftwarefoundation.python.3.12_qbz5n2kfra8p0\\localcache\\local-packages\\python312\\site-packages (from python-dateutil>=2.8.0->qiskit) (1.16.0)\n",
      "Requirement already satisfied: pbr>=2.0.0 in c:\\users\\hugog\\appdata\\local\\packages\\pythonsoftwarefoundation.python.3.12_qbz5n2kfra8p0\\localcache\\local-packages\\python312\\site-packages (from stevedore>=3.0.0->qiskit) (6.1.0)\n",
      "Requirement already satisfied: mpmath<1.4,>=1.1.0 in c:\\users\\hugog\\appdata\\local\\packages\\pythonsoftwarefoundation.python.3.12_qbz5n2kfra8p0\\localcache\\local-packages\\python312\\site-packages (from sympy>=1.3->qiskit) (1.3.0)\n",
      "Note: you may need to restart the kernel to use updated packages.\n",
      "Defaulting to user installation because normal site-packages is not writeable\n",
      "Requirement already satisfied: numpy in c:\\users\\hugog\\appdata\\local\\packages\\pythonsoftwarefoundation.python.3.12_qbz5n2kfra8p0\\localcache\\local-packages\\python312\\site-packages (2.0.2)\n",
      "Note: you may need to restart the kernel to use updated packages.\n"
     ]
    }
   ],
   "source": [
    "%pip install qiskit_aer\n",
    "%pip install qiskit\n",
    "%pip install numpy"
   ]
  },
  {
   "cell_type": "code",
   "execution_count": 2,
   "metadata": {},
   "outputs": [],
   "source": [
    "from qiskit import QuantumCircuit\n",
    "from qiskit.primitives import StatevectorSampler\n",
    "\n",
    "backend = StatevectorSampler()"
   ]
  },
  {
   "cell_type": "markdown",
   "metadata": {},
   "source": [
    "# bolchSphereCalc\n",
    "## A class to calculate the Bloch sphere coordinates (X, Y, Z) for a given quantum state.\n",
    "### Attributes:\n",
    "- beta (float): The beta parameter for initializing the quantum state.\n",
    "- teta (float): The teta parameter for initializing the quantum state.\n",
    "- shots (int): The number of shots for the quantum circuit simulation. Default is 8000.\n",
    "- X (float): The X coordinate on the Bloch sphere.\n",
    "- Y (float): The Y coordinate on the Bloch sphere.\n",
    "- Z (float): The Z coordinate on the Bloch sphere.\n",
    "- qc (QuantumCircuit): The quantum circuit used for the calculations.\n",
    "### Methods:\n",
    "- initCircuit():\n",
    "```\n",
    "    Initializes the quantum circuit with the given beta and teta parameters.\n",
    "```\n",
    "- getProba(c):\n",
    "```\n",
    "    Calculates the probability difference between measurement outcomes '0' and '1'.\n",
    "```\n",
    "- initX():\n",
    "```\n",
    "    Initializes the X coordinate on the Bloch sphere by applying a Hadamard gate and measuring the circuit.\n",
    "```\n",
    "- initY():\n",
    "```\n",
    "    Initializes the Y coordinate on the Bloch sphere by applying an S-dagger gate, a Hadamard gate, and measuring the circuit.\n",
    "```\n",
    "- initZ():\n",
    "```\n",
    "    Initializes the Z coordinate on the Bloch sphere by measuring the circuit directly.\n",
    "```\n",
    "- initAll():\n",
    "```\n",
    "    Initializes all three coordinates (X, Y, Z) on the Bloch sphere.\n",
    "```"
   ]
  },
  {
   "cell_type": "code",
   "execution_count": 3,
   "metadata": {},
   "outputs": [],
   "source": [
    "class bolchSphereCalc:\n",
    "    def __init__(self, beta, teta, shots=8000):\n",
    "        self.X = 0\n",
    "        self.Y = 0\n",
    "        self.Z = 0\n",
    "        self.beta = beta\n",
    "        self.teta = teta\n",
    "        self.shots = shots\n",
    "        self.qc = QuantumCircuit(1)\n",
    "        self.initCircuit()\n",
    "\n",
    "    def initCircuit(self):\n",
    "        self.qc.initialize([self.beta, self.teta], 0)\n",
    "\n",
    "    def getProba(self, c):\n",
    "        p0 = c.get('0', 0) / self.shots\n",
    "        p1 = c.get('1', 0) / self.shots\n",
    "        return (p0 - p1)\n",
    "\n",
    "    def initX(self):\n",
    "        tmpCirc = self.qc.copy()\n",
    "        tmpCirc.h(0)\n",
    "        tmpCirc.measure_all()\n",
    "        print(\"xCircuit:\")\n",
    "        print(tmpCirc.draw())\n",
    "        res = backend.run([tmpCirc], shots=self.shots).result()[0] # ne pas utiliser aersim / use statevectorsample\n",
    "        print(res.data)\n",
    "        c = res.data.meas.get_counts()\n",
    "        self.X = self.getProba(c)\n",
    "\n",
    "    def initY(self):\n",
    "        tmpCirc = self.qc.copy()\n",
    "        tmpCirc.sdg(0)\n",
    "        tmpCirc.h(0)\n",
    "        tmpCirc.measure_all()\n",
    "        print(\"yCircuit:\")\n",
    "        print(tmpCirc.draw())\n",
    "        res = backend.run([tmpCirc], shots=self.shots).result()[0]\n",
    "        print(res)\n",
    "        c = res.data.meas.get_counts()\n",
    "        self.Y = self.getProba(c)\n",
    "\n",
    "    def initZ(self):\n",
    "        tmpCirc = self.qc.copy()\n",
    "        tmpCirc.measure_all()\n",
    "        print(\"zCircuit:\")\n",
    "        print(tmpCirc.draw())\n",
    "        res = backend.run([tmpCirc], shots=self.shots).result()[0]\n",
    "        print(res)\n",
    "        c = res.data.meas.get_counts()\n",
    "        self.Z = self.getProba(c)\n",
    "\n",
    "    def initAll(self):\n",
    "        self.initZ()\n",
    "        self.initX()\n",
    "        self.initY()"
   ]
  },
  {
   "cell_type": "code",
   "execution_count": 4,
   "metadata": {},
   "outputs": [],
   "source": [
    "import numpy as np"
   ]
  },
  {
   "cell_type": "markdown",
   "metadata": {},
   "source": [
    "# test\n",
    "## A test program to check if bloch coordinates are good\n",
    "\n",
    "- Args:\n",
    "    - res: An object with attributes `X`, `Y`, and `Z` representing the result values.\n",
    "    - expect: A list or tuple containing the expected values in the order [X, Z, Y]."
   ]
  },
  {
   "cell_type": "code",
   "execution_count": 5,
   "metadata": {},
   "outputs": [],
   "source": [
    "def test(beta, teta):\n",
    "    exCour = bolchSphereCalc(beta, teta)\n",
    "    exCour.initAll()\n",
    "    return (exCour)"
   ]
  },
  {
   "cell_type": "code",
   "execution_count": 6,
   "metadata": {},
   "outputs": [
    {
     "name": "stdout",
     "output_type": "stream",
     "text": [
      "zCircuit:\n",
      "        ┌────────────────────────────┐ ░ ┌─┐\n",
      "     q: ┤ Initialize(0.8165,0.57735) ├─░─┤M├\n",
      "        └────────────────────────────┘ ░ └╥┘\n",
      "meas: 1/══════════════════════════════════╩═\n",
      "                                          0 \n",
      "SamplerPubResult(data=DataBin(meas=BitArray(<shape=(), num_shots=8000, num_bits=1>)), metadata={'shots': 8000, 'circuit_metadata': {}})\n",
      "xCircuit:\n",
      "        ┌────────────────────────────┐┌───┐ ░ ┌─┐\n",
      "     q: ┤ Initialize(0.8165,0.57735) ├┤ H ├─░─┤M├\n",
      "        └────────────────────────────┘└───┘ ░ └╥┘\n",
      "meas: 1/═══════════════════════════════════════╩═\n",
      "                                               0 \n",
      "DataBin(meas=BitArray(<shape=(), num_shots=8000, num_bits=1>))\n",
      "yCircuit:\n",
      "        ┌────────────────────────────┐┌─────┐┌───┐ ░ ┌─┐\n",
      "     q: ┤ Initialize(0.8165,0.57735) ├┤ Sdg ├┤ H ├─░─┤M├\n",
      "        └────────────────────────────┘└─────┘└───┘ ░ └╥┘\n",
      "meas: 1/══════════════════════════════════════════════╩═\n",
      "                                                      0 \n",
      "SamplerPubResult(data=DataBin(meas=BitArray(<shape=(), num_shots=8000, num_bits=1>)), metadata={'shots': 8000, 'circuit_metadata': {}})\n",
      "expected: [x: 0.9428090415820635, z: 0.3333333333333333, y: 0]\n",
      "obtain: [x: 0.9470000000000001, z: 0.32025, y: 0.020000000000000018]\n"
     ]
    }
   ],
   "source": [
    "res = test(np.sqrt(2/3), np.sqrt(1/3))\n",
    "expect = [2 * np.sqrt(2) / 3, 0, 1 / 3]\n",
    "print(f\"expected: [x: {expect[0]}, z: {expect[2]}, y: {expect[1]}]\\nobtain: [x: {res.X}, z: {res.Z}, y: {res.Y}]\")"
   ]
  }
 ],
 "metadata": {
  "kernelspec": {
   "display_name": "Python 3",
   "language": "python",
   "name": "python3"
  },
  "language_info": {
   "codemirror_mode": {
    "name": "ipython",
    "version": 3
   },
   "file_extension": ".py",
   "mimetype": "text/x-python",
   "name": "python",
   "nbconvert_exporter": "python",
   "pygments_lexer": "ipython3",
   "version": "3.12.7"
  }
 },
 "nbformat": 4,
 "nbformat_minor": 2
}
